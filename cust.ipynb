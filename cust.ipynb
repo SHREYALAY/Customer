{
 "cells": [
  {
   "cell_type": "code",
   "execution_count": 1,
   "id": "d6707e3c",
   "metadata": {},
   "outputs": [],
   "source": [
    "\n",
    "import pandas as pd \n",
    "\n",
    "import cx_Oracle"
   ]
  },
  {
   "cell_type": "code",
   "execution_count": 2,
   "id": "9177d7bf",
   "metadata": {},
   "outputs": [],
   "source": [
    "# connecting mysql server\n",
    "con = cx_Oracle.connect('system/1329@localhost')\n",
    "\n"
   ]
  },
  {
   "cell_type": "code",
   "execution_count": 3,
   "id": "e415be8a",
   "metadata": {},
   "outputs": [],
   "source": [
    "cursor = con.cursor()\n"
   ]
  },
  {
   "cell_type": "code",
   "execution_count": 4,
   "id": "81f94427",
   "metadata": {},
   "outputs": [],
   "source": [
    "sql=\"select * from Customer\"\n",
    "query2=cursor.execute(sql)"
   ]
  },
  {
   "cell_type": "code",
   "execution_count": 5,
   "id": "af6382f2",
   "metadata": {},
   "outputs": [],
   "source": [
    "#print(cursor.fetchall())"
   ]
  },
  {
   "cell_type": "code",
   "execution_count": 6,
   "id": "f93d3626",
   "metadata": {},
   "outputs": [],
   "source": [
    "df = pd.read_sql('SELECT * FROM Customer', con) \n",
    "table=pd.DataFrame(df)"
   ]
  },
  {
   "cell_type": "code",
   "execution_count": 7,
   "id": "75be70b8",
   "metadata": {},
   "outputs": [
    {
     "data": {
      "text/html": [
       "<div>\n",
       "<style scoped>\n",
       "    .dataframe tbody tr th:only-of-type {\n",
       "        vertical-align: middle;\n",
       "    }\n",
       "\n",
       "    .dataframe tbody tr th {\n",
       "        vertical-align: top;\n",
       "    }\n",
       "\n",
       "    .dataframe thead th {\n",
       "        text-align: right;\n",
       "    }\n",
       "</style>\n",
       "<table border=\"1\" class=\"dataframe\">\n",
       "  <thead>\n",
       "    <tr style=\"text-align: right;\">\n",
       "      <th></th>\n",
       "      <th>CUSTOMER_NAME</th>\n",
       "      <th>CUSTOMER_ID</th>\n",
       "      <th>CUSTOMER_OPEN_DATE</th>\n",
       "      <th>LASTCONSULTED_DATE</th>\n",
       "      <th>VACCINATION_TYPE</th>\n",
       "      <th>DOCTOR_CONSULTED</th>\n",
       "      <th>STATE</th>\n",
       "      <th>COUNTRY</th>\n",
       "      <th>POST_CODE</th>\n",
       "      <th>DATE_OF_BIRTH</th>\n",
       "      <th>ACTIVE_CUSTOMER</th>\n",
       "    </tr>\n",
       "  </thead>\n",
       "  <tbody>\n",
       "    <tr>\n",
       "      <th>0</th>\n",
       "      <td>Alex</td>\n",
       "      <td>101</td>\n",
       "      <td>20210607</td>\n",
       "      <td>20210706</td>\n",
       "      <td>MVD</td>\n",
       "      <td>paul</td>\n",
       "      <td>SA</td>\n",
       "      <td>USA</td>\n",
       "      <td>400012</td>\n",
       "      <td>19971213</td>\n",
       "      <td>A</td>\n",
       "    </tr>\n",
       "    <tr>\n",
       "      <th>1</th>\n",
       "      <td>John</td>\n",
       "      <td>102</td>\n",
       "      <td>20210607</td>\n",
       "      <td>20210706</td>\n",
       "      <td>MVD</td>\n",
       "      <td>paul</td>\n",
       "      <td>TN</td>\n",
       "      <td>IND</td>\n",
       "      <td>400015</td>\n",
       "      <td>19971213</td>\n",
       "      <td>A</td>\n",
       "    </tr>\n",
       "    <tr>\n",
       "      <th>2</th>\n",
       "      <td>Mathew</td>\n",
       "      <td>103</td>\n",
       "      <td>20210607</td>\n",
       "      <td>20210706</td>\n",
       "      <td>MVD</td>\n",
       "      <td>paul</td>\n",
       "      <td>WAS</td>\n",
       "      <td>PHIL</td>\n",
       "      <td>400018</td>\n",
       "      <td>19971213</td>\n",
       "      <td>A</td>\n",
       "    </tr>\n",
       "    <tr>\n",
       "      <th>3</th>\n",
       "      <td>Matt</td>\n",
       "      <td>104</td>\n",
       "      <td>20210607</td>\n",
       "      <td>20210706</td>\n",
       "      <td>MVD</td>\n",
       "      <td>paul</td>\n",
       "      <td>BOS</td>\n",
       "      <td>NYC</td>\n",
       "      <td>400020</td>\n",
       "      <td>19971213</td>\n",
       "      <td>A</td>\n",
       "    </tr>\n",
       "    <tr>\n",
       "      <th>4</th>\n",
       "      <td>Jacob</td>\n",
       "      <td>105</td>\n",
       "      <td>20210607</td>\n",
       "      <td>20210706</td>\n",
       "      <td>MVD</td>\n",
       "      <td>paul</td>\n",
       "      <td>VIC</td>\n",
       "      <td>AU</td>\n",
       "      <td>400021</td>\n",
       "      <td>19971213</td>\n",
       "      <td>A</td>\n",
       "    </tr>\n",
       "    <tr>\n",
       "      <th>5</th>\n",
       "      <td>Mat</td>\n",
       "      <td>106</td>\n",
       "      <td>20210607</td>\n",
       "      <td>20210706</td>\n",
       "      <td>MVD</td>\n",
       "      <td>paul</td>\n",
       "      <td>WAS</td>\n",
       "      <td>IND</td>\n",
       "      <td>400015</td>\n",
       "      <td>19971213</td>\n",
       "      <td>A</td>\n",
       "    </tr>\n",
       "  </tbody>\n",
       "</table>\n",
       "</div>"
      ],
      "text/plain": [
       "  CUSTOMER_NAME  CUSTOMER_ID  CUSTOMER_OPEN_DATE  LASTCONSULTED_DATE  \\\n",
       "0          Alex          101            20210607            20210706   \n",
       "1          John          102            20210607            20210706   \n",
       "2        Mathew          103            20210607            20210706   \n",
       "3          Matt          104            20210607            20210706   \n",
       "4         Jacob          105            20210607            20210706   \n",
       "5           Mat          106            20210607            20210706   \n",
       "\n",
       "  VACCINATION_TYPE DOCTOR_CONSULTED STATE COUNTRY  POST_CODE  DATE_OF_BIRTH  \\\n",
       "0            MVD              paul     SA     USA     400012       19971213   \n",
       "1            MVD              paul     TN     IND     400015       19971213   \n",
       "2            MVD              paul    WAS    PHIL     400018       19971213   \n",
       "3            MVD              paul    BOS     NYC     400020       19971213   \n",
       "4            MVD              paul    VIC      AU     400021       19971213   \n",
       "5            MVD              paul    WAS     IND     400015       19971213   \n",
       "\n",
       "  ACTIVE_CUSTOMER  \n",
       "0               A  \n",
       "1               A  \n",
       "2               A  \n",
       "3               A  \n",
       "4               A  \n",
       "5               A  "
      ]
     },
     "execution_count": 7,
     "metadata": {},
     "output_type": "execute_result"
    }
   ],
   "source": [
    "table"
   ]
  },
  {
   "cell_type": "code",
   "execution_count": 8,
   "id": "c97b3b4f",
   "metadata": {},
   "outputs": [],
   "source": [
    "# fitting into pandas dataframe\n",
    "df.set_index(['CUSTOMER_ID'], inplace=True) \n"
   ]
  },
  {
   "cell_type": "code",
   "execution_count": 9,
   "id": "e3231678",
   "metadata": {},
   "outputs": [],
   "source": [
    "# setting default index# print (df)\n",
    "ans = df.loc[df['COUNTRY'] == \"IND\"] \n",
    "def show_data(COUNTRY): \n",
    "    data = df.loc[df['COUNTRY'] == COUNTRY] \n",
    "    print(data) \n",
    "  "
   ]
  },
  {
   "cell_type": "code",
   "execution_count": 10,
   "id": "0cf5a812",
   "metadata": {},
   "outputs": [],
   "source": [
    "def get_file(COUNTRY): \n",
    "        data = df.loc[df['COUNTRY'] == COUNTRY] \n",
    "        file_name = str(COUNTRY) \n",
    "        data.to_csv('C:/Users/Lay Desai/Desktop/sql/' + COUNTRY + \".csv\")\n",
    "        \n"
   ]
  },
  {
   "cell_type": "code",
   "execution_count": 11,
   "id": "33444501",
   "metadata": {},
   "outputs": [
    {
     "name": "stdout",
     "output_type": "stream",
     "text": [
      "CUSTOMER_ID\n",
      "101     USA\n",
      "102     IND\n",
      "103    PHIL\n",
      "104     NYC\n",
      "105      AU\n",
      "106     IND\n",
      "Name: COUNTRY, dtype: object\n"
     ]
    }
   ],
   "source": [
    "s=df['COUNTRY']\n",
    "print(s)\n"
   ]
  },
  {
   "cell_type": "code",
   "execution_count": 12,
   "id": "5423437c",
   "metadata": {},
   "outputs": [
    {
     "name": "stdout",
     "output_type": "stream",
     "text": [
      "            CUSTOMER_NAME  CUSTOMER_OPEN_DATE  LASTCONSULTED_DATE  \\\n",
      "CUSTOMER_ID                                                         \n",
      "101                  Alex            20210607            20210706   \n",
      "\n",
      "            VACCINATION_TYPE DOCTOR_CONSULTED STATE COUNTRY  POST_CODE  \\\n",
      "CUSTOMER_ID                                                              \n",
      "101                    MVD              paul     SA     USA     400012   \n",
      "\n",
      "             DATE_OF_BIRTH ACTIVE_CUSTOMER  \n",
      "CUSTOMER_ID                                 \n",
      "101               19971213               A  \n",
      "            CUSTOMER_NAME  CUSTOMER_OPEN_DATE  LASTCONSULTED_DATE  \\\n",
      "CUSTOMER_ID                                                         \n",
      "102                  John            20210607            20210706   \n",
      "106                   Mat            20210607            20210706   \n",
      "\n",
      "            VACCINATION_TYPE DOCTOR_CONSULTED STATE COUNTRY  POST_CODE  \\\n",
      "CUSTOMER_ID                                                              \n",
      "102                    MVD              paul     TN     IND     400015   \n",
      "106                    MVD              paul    WAS     IND     400015   \n",
      "\n",
      "             DATE_OF_BIRTH ACTIVE_CUSTOMER  \n",
      "CUSTOMER_ID                                 \n",
      "102               19971213               A  \n",
      "106               19971213               A  \n",
      "            CUSTOMER_NAME  CUSTOMER_OPEN_DATE  LASTCONSULTED_DATE  \\\n",
      "CUSTOMER_ID                                                         \n",
      "103                Mathew            20210607            20210706   \n",
      "\n",
      "            VACCINATION_TYPE DOCTOR_CONSULTED STATE COUNTRY  POST_CODE  \\\n",
      "CUSTOMER_ID                                                              \n",
      "103                    MVD              paul    WAS    PHIL     400018   \n",
      "\n",
      "             DATE_OF_BIRTH ACTIVE_CUSTOMER  \n",
      "CUSTOMER_ID                                 \n",
      "103               19971213               A  \n",
      "            CUSTOMER_NAME  CUSTOMER_OPEN_DATE  LASTCONSULTED_DATE  \\\n",
      "CUSTOMER_ID                                                         \n",
      "104                  Matt            20210607            20210706   \n",
      "\n",
      "            VACCINATION_TYPE DOCTOR_CONSULTED STATE COUNTRY  POST_CODE  \\\n",
      "CUSTOMER_ID                                                              \n",
      "104                    MVD              paul    BOS     NYC     400020   \n",
      "\n",
      "             DATE_OF_BIRTH ACTIVE_CUSTOMER  \n",
      "CUSTOMER_ID                                 \n",
      "104               19971213               A  \n",
      "            CUSTOMER_NAME  CUSTOMER_OPEN_DATE  LASTCONSULTED_DATE  \\\n",
      "CUSTOMER_ID                                                         \n",
      "105                 Jacob            20210607            20210706   \n",
      "\n",
      "            VACCINATION_TYPE DOCTOR_CONSULTED STATE COUNTRY  POST_CODE  \\\n",
      "CUSTOMER_ID                                                              \n",
      "105                    MVD              paul    VIC      AU     400021   \n",
      "\n",
      "             DATE_OF_BIRTH ACTIVE_CUSTOMER  \n",
      "CUSTOMER_ID                                 \n",
      "105               19971213               A  \n"
     ]
    }
   ],
   "source": [
    "cn=[]\n",
    "for count in s:\n",
    "    if count not in cn:\n",
    "        cn.append(count)\n",
    "        show_data(count)\n",
    "        get_file(count)"
   ]
  },
  {
   "cell_type": "code",
   "execution_count": null,
   "id": "21768880",
   "metadata": {},
   "outputs": [],
   "source": [
    "\n"
   ]
  },
  {
   "cell_type": "code",
   "execution_count": null,
   "id": "3cb05be9",
   "metadata": {},
   "outputs": [],
   "source": []
  },
  {
   "cell_type": "code",
   "execution_count": null,
   "id": "4c7b4997",
   "metadata": {},
   "outputs": [],
   "source": []
  },
  {
   "cell_type": "code",
   "execution_count": null,
   "id": "d8c96106",
   "metadata": {},
   "outputs": [],
   "source": []
  },
  {
   "cell_type": "code",
   "execution_count": null,
   "id": "15376c90",
   "metadata": {},
   "outputs": [],
   "source": []
  },
  {
   "cell_type": "code",
   "execution_count": null,
   "id": "3bba4779",
   "metadata": {},
   "outputs": [],
   "source": []
  }
 ],
 "metadata": {
  "kernelspec": {
   "display_name": "Python 3",
   "language": "python",
   "name": "python3"
  },
  "language_info": {
   "codemirror_mode": {
    "name": "ipython",
    "version": 3
   },
   "file_extension": ".py",
   "mimetype": "text/x-python",
   "name": "python",
   "nbconvert_exporter": "python",
   "pygments_lexer": "ipython3",
   "version": "3.8.8"
  }
 },
 "nbformat": 4,
 "nbformat_minor": 5
}
